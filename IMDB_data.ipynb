{
  "cells": [
    {
      "cell_type": "code",
      "execution_count": 1,
      "metadata": {
        "id": "dc578bc2-f045-4c4b-b233-70f212efcbbd"
      },
      "outputs": [],
      "source": [
        "import pandas as pd\n",
        "import numpy as np\n"
      ],
      "id": "dc578bc2-f045-4c4b-b233-70f212efcbbd"
    },
    {
      "cell_type": "code",
      "execution_count": 2,
      "metadata": {
        "colab": {
          "base_uri": "https://localhost:8080/"
        },
        "id": "8QiZ4lHFGEKl",
        "outputId": "f612db00-9d18-4758-fe71-2343833c8844"
      },
      "outputs": [
        {
          "output_type": "stream",
          "name": "stdout",
          "text": [
            "Drive already mounted at /content/gdrive; to attempt to forcibly remount, call drive.mount(\"/content/gdrive\", force_remount=True).\n"
          ]
        }
      ],
      "source": [
        "from google.colab import drive\n",
        "drive.mount('/content/gdrive') # source : https://developer.imdb.com/non-commercial-datasets/"
      ],
      "id": "8QiZ4lHFGEKl"
    },
    {
      "cell_type": "code",
      "execution_count": 3,
      "metadata": {
        "colab": {
          "base_uri": "https://localhost:8080/"
        },
        "id": "1923d6ec-4dc9-4ccf-bcdf-0b6e4236ef56",
        "outputId": "5b4761db-91e2-47a7-8d0f-2d4b27daf1b4"
      },
      "outputs": [
        {
          "output_type": "stream",
          "name": "stdout",
          "text": [
            "title_basics length:  \t 10082801\n"
          ]
        }
      ],
      "source": [
        "df_title_basics = pd.read_csv(\"/content/gdrive/MyDrive/Colab Notebooks/IMDB_DATASETS/data_title_basics.tsv\", sep='\\t', dtype={'isAdult': 'object'})\n",
        "print('title_basics length: ','\\t',len(df_title_basics))"
      ],
      "id": "1923d6ec-4dc9-4ccf-bcdf-0b6e4236ef56"
    },
    {
      "cell_type": "code",
      "execution_count": 4,
      "metadata": {
        "id": "967fc226-54cc-4daa-9427-ad5cad435cec"
      },
      "outputs": [],
      "source": [
        "value_to_replace_1 = r'\\\\N'\n",
        "value_to_replace_2 = r'\\N'\n",
        "\n",
        "df_title_basics.replace(value_to_replace_1, np.nan, inplace=True)\n",
        "df_title_basics.replace(value_to_replace_2, np.nan, inplace=True)\n"
      ],
      "id": "967fc226-54cc-4daa-9427-ad5cad435cec"
    },
    {
      "cell_type": "markdown",
      "metadata": {
        "id": "b1J25dRjd-QD"
      },
      "source": [
        "# **Cleaning**\n",
        "\n",
        "---\n",
        "\n"
      ],
      "id": "b1J25dRjd-QD"
    },
    {
      "cell_type": "markdown",
      "metadata": {
        "id": "RpIE2Q1SePHz"
      },
      "source": [
        "## 1. Title_basics table\n"
      ],
      "id": "RpIE2Q1SePHz"
    },
    {
      "cell_type": "code",
      "execution_count": 5,
      "metadata": {
        "colab": {
          "base_uri": "https://localhost:8080/",
          "height": 334
        },
        "id": "66FsczdPhI25",
        "outputId": "f09d40d7-3c95-4b5b-fd5f-1d9f47aee8b0"
      },
      "outputs": [
        {
          "output_type": "stream",
          "name": "stdout",
          "text": [
            "rows in dataframe:  10082801\n",
            "Nulls per column\n",
            "tconst                  0\n",
            "titleType               0\n",
            "primaryTitle           11\n",
            "originalTitle          11\n",
            "isAdult                 1\n",
            "startYear         1353425\n",
            "endYear           9971602\n",
            "runtimeMinutes    7082117\n",
            "genres             453418\n",
            "dtype: int64\n"
          ]
        },
        {
          "output_type": "execute_result",
          "data": {
            "text/plain": [
              "      tconst titleType            primaryTitle           originalTitle  \\\n",
              "0  tt0000001     short              Carmencita              Carmencita   \n",
              "1  tt0000002     short  Le clown et ses chiens  Le clown et ses chiens   \n",
              "\n",
              "  isAdult startYear endYear runtimeMinutes             genres  \n",
              "0       0      1894     NaN              1  Documentary,Short  \n",
              "1       0      1892     NaN              5    Animation,Short  "
            ],
            "text/html": [
              "\n",
              "  <div id=\"df-9d51cb53-22c6-448b-9154-edd46af9b9cf\" class=\"colab-df-container\">\n",
              "    <div>\n",
              "<style scoped>\n",
              "    .dataframe tbody tr th:only-of-type {\n",
              "        vertical-align: middle;\n",
              "    }\n",
              "\n",
              "    .dataframe tbody tr th {\n",
              "        vertical-align: top;\n",
              "    }\n",
              "\n",
              "    .dataframe thead th {\n",
              "        text-align: right;\n",
              "    }\n",
              "</style>\n",
              "<table border=\"1\" class=\"dataframe\">\n",
              "  <thead>\n",
              "    <tr style=\"text-align: right;\">\n",
              "      <th></th>\n",
              "      <th>tconst</th>\n",
              "      <th>titleType</th>\n",
              "      <th>primaryTitle</th>\n",
              "      <th>originalTitle</th>\n",
              "      <th>isAdult</th>\n",
              "      <th>startYear</th>\n",
              "      <th>endYear</th>\n",
              "      <th>runtimeMinutes</th>\n",
              "      <th>genres</th>\n",
              "    </tr>\n",
              "  </thead>\n",
              "  <tbody>\n",
              "    <tr>\n",
              "      <th>0</th>\n",
              "      <td>tt0000001</td>\n",
              "      <td>short</td>\n",
              "      <td>Carmencita</td>\n",
              "      <td>Carmencita</td>\n",
              "      <td>0</td>\n",
              "      <td>1894</td>\n",
              "      <td>NaN</td>\n",
              "      <td>1</td>\n",
              "      <td>Documentary,Short</td>\n",
              "    </tr>\n",
              "    <tr>\n",
              "      <th>1</th>\n",
              "      <td>tt0000002</td>\n",
              "      <td>short</td>\n",
              "      <td>Le clown et ses chiens</td>\n",
              "      <td>Le clown et ses chiens</td>\n",
              "      <td>0</td>\n",
              "      <td>1892</td>\n",
              "      <td>NaN</td>\n",
              "      <td>5</td>\n",
              "      <td>Animation,Short</td>\n",
              "    </tr>\n",
              "  </tbody>\n",
              "</table>\n",
              "</div>\n",
              "    <div class=\"colab-df-buttons\">\n",
              "\n",
              "  <div class=\"colab-df-container\">\n",
              "    <button class=\"colab-df-convert\" onclick=\"convertToInteractive('df-9d51cb53-22c6-448b-9154-edd46af9b9cf')\"\n",
              "            title=\"Convert this dataframe to an interactive table.\"\n",
              "            style=\"display:none;\">\n",
              "\n",
              "  <svg xmlns=\"http://www.w3.org/2000/svg\" height=\"24px\" viewBox=\"0 -960 960 960\">\n",
              "    <path d=\"M120-120v-720h720v720H120Zm60-500h600v-160H180v160Zm220 220h160v-160H400v160Zm0 220h160v-160H400v160ZM180-400h160v-160H180v160Zm440 0h160v-160H620v160ZM180-180h160v-160H180v160Zm440 0h160v-160H620v160Z\"/>\n",
              "  </svg>\n",
              "    </button>\n",
              "\n",
              "  <style>\n",
              "    .colab-df-container {\n",
              "      display:flex;\n",
              "      gap: 12px;\n",
              "    }\n",
              "\n",
              "    .colab-df-convert {\n",
              "      background-color: #E8F0FE;\n",
              "      border: none;\n",
              "      border-radius: 50%;\n",
              "      cursor: pointer;\n",
              "      display: none;\n",
              "      fill: #1967D2;\n",
              "      height: 32px;\n",
              "      padding: 0 0 0 0;\n",
              "      width: 32px;\n",
              "    }\n",
              "\n",
              "    .colab-df-convert:hover {\n",
              "      background-color: #E2EBFA;\n",
              "      box-shadow: 0px 1px 2px rgba(60, 64, 67, 0.3), 0px 1px 3px 1px rgba(60, 64, 67, 0.15);\n",
              "      fill: #174EA6;\n",
              "    }\n",
              "\n",
              "    .colab-df-buttons div {\n",
              "      margin-bottom: 4px;\n",
              "    }\n",
              "\n",
              "    [theme=dark] .colab-df-convert {\n",
              "      background-color: #3B4455;\n",
              "      fill: #D2E3FC;\n",
              "    }\n",
              "\n",
              "    [theme=dark] .colab-df-convert:hover {\n",
              "      background-color: #434B5C;\n",
              "      box-shadow: 0px 1px 3px 1px rgba(0, 0, 0, 0.15);\n",
              "      filter: drop-shadow(0px 1px 2px rgba(0, 0, 0, 0.3));\n",
              "      fill: #FFFFFF;\n",
              "    }\n",
              "  </style>\n",
              "\n",
              "    <script>\n",
              "      const buttonEl =\n",
              "        document.querySelector('#df-9d51cb53-22c6-448b-9154-edd46af9b9cf button.colab-df-convert');\n",
              "      buttonEl.style.display =\n",
              "        google.colab.kernel.accessAllowed ? 'block' : 'none';\n",
              "\n",
              "      async function convertToInteractive(key) {\n",
              "        const element = document.querySelector('#df-9d51cb53-22c6-448b-9154-edd46af9b9cf');\n",
              "        const dataTable =\n",
              "          await google.colab.kernel.invokeFunction('convertToInteractive',\n",
              "                                                    [key], {});\n",
              "        if (!dataTable) return;\n",
              "\n",
              "        const docLinkHtml = 'Like what you see? Visit the ' +\n",
              "          '<a target=\"_blank\" href=https://colab.research.google.com/notebooks/data_table.ipynb>data table notebook</a>'\n",
              "          + ' to learn more about interactive tables.';\n",
              "        element.innerHTML = '';\n",
              "        dataTable['output_type'] = 'display_data';\n",
              "        await google.colab.output.renderOutput(dataTable, element);\n",
              "        const docLink = document.createElement('div');\n",
              "        docLink.innerHTML = docLinkHtml;\n",
              "        element.appendChild(docLink);\n",
              "      }\n",
              "    </script>\n",
              "  </div>\n",
              "\n",
              "\n",
              "<div id=\"df-874ae5d5-acdf-4b9c-b2a6-3d1676451b52\">\n",
              "  <button class=\"colab-df-quickchart\" onclick=\"quickchart('df-874ae5d5-acdf-4b9c-b2a6-3d1676451b52')\"\n",
              "            title=\"Suggest charts.\"\n",
              "            style=\"display:none;\">\n",
              "\n",
              "<svg xmlns=\"http://www.w3.org/2000/svg\" height=\"24px\"viewBox=\"0 0 24 24\"\n",
              "     width=\"24px\">\n",
              "    <g>\n",
              "        <path d=\"M19 3H5c-1.1 0-2 .9-2 2v14c0 1.1.9 2 2 2h14c1.1 0 2-.9 2-2V5c0-1.1-.9-2-2-2zM9 17H7v-7h2v7zm4 0h-2V7h2v10zm4 0h-2v-4h2v4z\"/>\n",
              "    </g>\n",
              "</svg>\n",
              "  </button>\n",
              "\n",
              "<style>\n",
              "  .colab-df-quickchart {\n",
              "      --bg-color: #E8F0FE;\n",
              "      --fill-color: #1967D2;\n",
              "      --hover-bg-color: #E2EBFA;\n",
              "      --hover-fill-color: #174EA6;\n",
              "      --disabled-fill-color: #AAA;\n",
              "      --disabled-bg-color: #DDD;\n",
              "  }\n",
              "\n",
              "  [theme=dark] .colab-df-quickchart {\n",
              "      --bg-color: #3B4455;\n",
              "      --fill-color: #D2E3FC;\n",
              "      --hover-bg-color: #434B5C;\n",
              "      --hover-fill-color: #FFFFFF;\n",
              "      --disabled-bg-color: #3B4455;\n",
              "      --disabled-fill-color: #666;\n",
              "  }\n",
              "\n",
              "  .colab-df-quickchart {\n",
              "    background-color: var(--bg-color);\n",
              "    border: none;\n",
              "    border-radius: 50%;\n",
              "    cursor: pointer;\n",
              "    display: none;\n",
              "    fill: var(--fill-color);\n",
              "    height: 32px;\n",
              "    padding: 0;\n",
              "    width: 32px;\n",
              "  }\n",
              "\n",
              "  .colab-df-quickchart:hover {\n",
              "    background-color: var(--hover-bg-color);\n",
              "    box-shadow: 0 1px 2px rgba(60, 64, 67, 0.3), 0 1px 3px 1px rgba(60, 64, 67, 0.15);\n",
              "    fill: var(--button-hover-fill-color);\n",
              "  }\n",
              "\n",
              "  .colab-df-quickchart-complete:disabled,\n",
              "  .colab-df-quickchart-complete:disabled:hover {\n",
              "    background-color: var(--disabled-bg-color);\n",
              "    fill: var(--disabled-fill-color);\n",
              "    box-shadow: none;\n",
              "  }\n",
              "\n",
              "  .colab-df-spinner {\n",
              "    border: 2px solid var(--fill-color);\n",
              "    border-color: transparent;\n",
              "    border-bottom-color: var(--fill-color);\n",
              "    animation:\n",
              "      spin 1s steps(1) infinite;\n",
              "  }\n",
              "\n",
              "  @keyframes spin {\n",
              "    0% {\n",
              "      border-color: transparent;\n",
              "      border-bottom-color: var(--fill-color);\n",
              "      border-left-color: var(--fill-color);\n",
              "    }\n",
              "    20% {\n",
              "      border-color: transparent;\n",
              "      border-left-color: var(--fill-color);\n",
              "      border-top-color: var(--fill-color);\n",
              "    }\n",
              "    30% {\n",
              "      border-color: transparent;\n",
              "      border-left-color: var(--fill-color);\n",
              "      border-top-color: var(--fill-color);\n",
              "      border-right-color: var(--fill-color);\n",
              "    }\n",
              "    40% {\n",
              "      border-color: transparent;\n",
              "      border-right-color: var(--fill-color);\n",
              "      border-top-color: var(--fill-color);\n",
              "    }\n",
              "    60% {\n",
              "      border-color: transparent;\n",
              "      border-right-color: var(--fill-color);\n",
              "    }\n",
              "    80% {\n",
              "      border-color: transparent;\n",
              "      border-right-color: var(--fill-color);\n",
              "      border-bottom-color: var(--fill-color);\n",
              "    }\n",
              "    90% {\n",
              "      border-color: transparent;\n",
              "      border-bottom-color: var(--fill-color);\n",
              "    }\n",
              "  }\n",
              "</style>\n",
              "\n",
              "  <script>\n",
              "    async function quickchart(key) {\n",
              "      const quickchartButtonEl =\n",
              "        document.querySelector('#' + key + ' button');\n",
              "      quickchartButtonEl.disabled = true;  // To prevent multiple clicks.\n",
              "      quickchartButtonEl.classList.add('colab-df-spinner');\n",
              "      try {\n",
              "        const charts = await google.colab.kernel.invokeFunction(\n",
              "            'suggestCharts', [key], {});\n",
              "      } catch (error) {\n",
              "        console.error('Error during call to suggestCharts:', error);\n",
              "      }\n",
              "      quickchartButtonEl.classList.remove('colab-df-spinner');\n",
              "      quickchartButtonEl.classList.add('colab-df-quickchart-complete');\n",
              "    }\n",
              "    (() => {\n",
              "      let quickchartButtonEl =\n",
              "        document.querySelector('#df-874ae5d5-acdf-4b9c-b2a6-3d1676451b52 button');\n",
              "      quickchartButtonEl.style.display =\n",
              "        google.colab.kernel.accessAllowed ? 'block' : 'none';\n",
              "    })();\n",
              "  </script>\n",
              "</div>\n",
              "    </div>\n",
              "  </div>\n"
            ]
          },
          "metadata": {},
          "execution_count": 5
        }
      ],
      "source": [
        "print('rows in dataframe: ',len(df_title_basics))\n",
        "print('Nulls per column')\n",
        "print(df_title_basics.isnull().sum())\n",
        "df_title_basics.head(2)"
      ],
      "id": "66FsczdPhI25"
    },
    {
      "cell_type": "markdown",
      "metadata": {
        "id": "IsbMEnn9gdF3"
      },
      "source": [
        "### 1.1 isAdult column"
      ],
      "id": "IsbMEnn9gdF3"
    },
    {
      "cell_type": "code",
      "execution_count": 6,
      "metadata": {
        "colab": {
          "base_uri": "https://localhost:8080/"
        },
        "id": "022ec26c-321c-4112-8cb7-180c70982c39",
        "outputId": "1c52c809-94da-47b2-d1c6-52ed71b2be18"
      },
      "outputs": [
        {
          "output_type": "stream",
          "name": "stdout",
          "text": [
            "10082801\n"
          ]
        },
        {
          "output_type": "execute_result",
          "data": {
            "text/plain": [
              "array(['0', '1', '2019', '1981', '2020', '2017', nan, '2023', '2022',\n",
              "       '2011', '2014', '2005'], dtype=object)"
            ]
          },
          "metadata": {},
          "execution_count": 6
        }
      ],
      "source": [
        "print(len(df_title_basics))\n",
        "df_title_basics['isAdult'].unique()"
      ],
      "id": "022ec26c-321c-4112-8cb7-180c70982c39"
    },
    {
      "cell_type": "code",
      "execution_count": 7,
      "metadata": {
        "colab": {
          "base_uri": "https://localhost:8080/"
        },
        "id": "b05d84bd-5a7b-4f05-8be6-bd318d454cd9",
        "outputId": "cc054071-c4bc-4a3a-a946-d77d0af886e1"
      },
      "outputs": [
        {
          "output_type": "stream",
          "name": "stdout",
          "text": [
            "Number of wrong values: \t 17\n",
            "number of correct values: \t 10082784\n"
          ]
        },
        {
          "output_type": "execute_result",
          "data": {
            "text/plain": [
              "array([0, 1])"
            ]
          },
          "metadata": {},
          "execution_count": 7
        }
      ],
      "source": [
        "wrong_values_years = [2019,1981,2020,2017,2023,2022,2011,2014,2005]\n",
        "string_values = ['0','1']\n",
        "print('Number of wrong values:','\\t',len(df_title_basics[~df_title_basics['isAdult'].isin(string_values)]))\n",
        "df_title_basics = df_title_basics[df_title_basics['isAdult'].isin(string_values)]\n",
        "# keep only values intended for the column, they're still a string type -> change to int\n",
        "print('number of correct values:','\\t',len(df_title_basics))\n",
        "df_title_basics['isAdult'] = df_title_basics['isAdult'].astype(str).astype(int)\n",
        "df_title_basics['isAdult'].unique()"
      ],
      "id": "b05d84bd-5a7b-4f05-8be6-bd318d454cd9"
    },
    {
      "cell_type": "markdown",
      "metadata": {
        "id": "R59Had3Ne6Ma"
      },
      "source": [
        "#### Wrong value rows are deleted\n",
        "\n",
        "---\n",
        "\n",
        "\n",
        "\n",
        "\n"
      ],
      "id": "R59Had3Ne6Ma"
    },
    {
      "cell_type": "markdown",
      "metadata": {
        "id": "UdSsEvwDhBGc"
      },
      "source": [
        "### 1.2 tconst column\n"
      ],
      "id": "UdSsEvwDhBGc"
    },
    {
      "cell_type": "code",
      "execution_count": 8,
      "metadata": {
        "colab": {
          "base_uri": "https://localhost:8080/"
        },
        "id": "c5a7db74-aa84-42d6-bb9c-0e905d0aa941",
        "outputId": "e0c4c9ae-0cbe-4e24-fa5c-281fa38dcf1b"
      },
      "outputs": [
        {
          "output_type": "stream",
          "name": "stdout",
          "text": [
            "Invalid values: \t 0\n",
            "total rows:  \t\t 10082784\n",
            "unique values:  \t 10082784\n"
          ]
        }
      ],
      "source": [
        "pattern = r'^tt\\d{7,8}$'   ## code rule for column must be followed on every value\n",
        "invalid_values = df_title_basics[~df_title_basics['tconst'].str.match(pattern)]  #check if rule is followed\n",
        "print(\"Invalid values:\",'\\t',len(invalid_values))\n",
        "print('total rows: ','\\t\\t',len(df_title_basics))\n",
        "print('unique values: ','\\t',len(df_title_basics['tconst'].unique()))\n",
        "# clean"
      ],
      "id": "c5a7db74-aa84-42d6-bb9c-0e905d0aa941"
    },
    {
      "cell_type": "markdown",
      "metadata": {
        "id": "O3Y4Q6T7kAYH"
      },
      "source": [
        "### 1.3 titleType column"
      ],
      "id": "O3Y4Q6T7kAYH"
    },
    {
      "cell_type": "code",
      "execution_count": 9,
      "metadata": {
        "colab": {
          "base_uri": "https://localhost:8080/"
        },
        "id": "NwuCM7OOkLqQ",
        "outputId": "053ca528-32c8-4b75-f810-4efa22b4e176"
      },
      "outputs": [
        {
          "output_type": "stream",
          "name": "stdout",
          "text": [
            "False\n"
          ]
        }
      ],
      "source": [
        "contains_non_string = df_title_basics['titleType'][df_title_basics['titleType'].apply(type) != str].any()\n",
        "print(contains_non_string)\n",
        "# clean"
      ],
      "id": "NwuCM7OOkLqQ"
    },
    {
      "cell_type": "markdown",
      "metadata": {
        "id": "OVEa0IwvmxB-"
      },
      "source": [
        "### 1.4 primaryTitle column"
      ],
      "id": "OVEa0IwvmxB-"
    },
    {
      "cell_type": "code",
      "execution_count": 10,
      "metadata": {
        "colab": {
          "base_uri": "https://localhost:8080/"
        },
        "id": "RkAfYFIrlDPl",
        "outputId": "326e9133-624b-4253-cdcd-e664ecc6d439"
      },
      "outputs": [
        {
          "output_type": "stream",
          "name": "stdout",
          "text": [
            "<class 'pandas.core.series.Series'>\n",
            "Int64Index: 10082784 entries, 0 to 10082800\n",
            "Series name: primaryTitle\n",
            "Non-Null Count     Dtype \n",
            "--------------     ----- \n",
            "10082773 non-null  object\n",
            "dtypes: object(1)\n",
            "memory usage: 153.9+ MB\n",
            "None\n",
            "Number of nan values \t 11\n"
          ]
        }
      ],
      "source": [
        "print(df_title_basics['primaryTitle'].info())\n",
        "print('Number of nan values','\\t',len(df_title_basics[df_title_basics['primaryTitle'].isna()]))\n",
        "# the nan values in primaryTitle column are the same as originalTitle column"
      ],
      "id": "RkAfYFIrlDPl"
    },
    {
      "cell_type": "code",
      "execution_count": 11,
      "metadata": {
        "id": "hb9Yi2qAnSUP"
      },
      "outputs": [],
      "source": [
        "df_title_basics.dropna(subset='primaryTitle',inplace=True)"
      ],
      "id": "hb9Yi2qAnSUP"
    },
    {
      "cell_type": "markdown",
      "metadata": {
        "id": "6HQSDJ-4ztq5"
      },
      "source": [
        "### 1.5 startYear & endYear column"
      ],
      "id": "6HQSDJ-4ztq5"
    },
    {
      "cell_type": "code",
      "execution_count": 12,
      "metadata": {
        "id": "M6_SpHfyztUa"
      },
      "outputs": [],
      "source": [
        "df_title_basics['startYear'] = df_title_basics['startYear'].astype('Int64')\n",
        "df_title_basics['endYear'] = df_title_basics['endYear'].astype('Int64')\n",
        "df_title_basics['runtimeMinutes'] = df_title_basics['runtimeMinutes'].astype('Int64')\n"
      ],
      "id": "M6_SpHfyztUa"
    },
    {
      "cell_type": "markdown",
      "metadata": {
        "id": "0R5Ir5Inz_Mo"
      },
      "source": [
        "### 1.6 Genres column (explode)"
      ],
      "id": "0R5Ir5Inz_Mo"
    },
    {
      "cell_type": "code",
      "execution_count": 13,
      "metadata": {
        "colab": {
          "base_uri": "https://localhost:8080/"
        },
        "id": "zGQwzAQe4AJ2",
        "outputId": "6ceba44f-a639-4a7f-e138-cee534664162"
      },
      "outputs": [
        {
          "output_type": "stream",
          "name": "stdout",
          "text": [
            "unique values: \t 2342\n",
            "actual unique values: \t 29\n"
          ]
        }
      ],
      "source": [
        "print('unique values: \\t',len(df_title_basics['genres'].unique()))\n",
        "df_title_basics['genres'] = df_title_basics['genres'].str.split(',')\n",
        "df_title_basics = df_title_basics.explode('genres').reset_index(drop=True)\n",
        "print('actual unique values: \\t',len(df_title_basics['genres'].unique()))\n"
      ],
      "id": "zGQwzAQe4AJ2"
    },
    {
      "cell_type": "code",
      "execution_count": 14,
      "metadata": {
        "colab": {
          "base_uri": "https://localhost:8080/"
        },
        "id": "zNX_uYx1Y_R5",
        "outputId": "d0e92170-1dfc-4591-ab6b-8e9c5fa6556f"
      },
      "outputs": [
        {
          "output_type": "stream",
          "name": "stdout",
          "text": [
            "n° of rows:  16077020\n",
            "highest start Year:  2031\n",
            "lowest start Year:  1874\n",
            "new n° of rows:  3799900\n"
          ]
        }
      ],
      "source": [
        "print('n° of rows: ',len(df_title_basics))\n",
        "df_title_basics = df_title_basics[(df_title_basics['titleType']!='tvEpisode')]\n",
        "print('highest start Year: ',df_title_basics['startYear'].max())                      # returns 2031 -> deleting all values over 2023\n",
        "print('lowest start Year: ',df_title_basics['startYear'].min())\n",
        "df_title_basics = df_title_basics.loc[(df_title_basics['startYear']<=2023)]\n",
        "\n",
        "df_title_basics = df_title_basics.loc[(df_title_basics['endYear']<=2023)]\n",
        "print(df_title_basics['titleType'].unique)\n",
        "print('new n° of rows: ',len(df_title_basics))"
      ],
      "id": "zNX_uYx1Y_R5"
    },
    {
      "cell_type": "markdown",
      "metadata": {
        "id": "tjzHA2aVtml5"
      },
      "source": [
        "#### Starting years have values higher than the present year.\n",
        "\n",
        "\n",
        "#### Values over 2023 dropped\n",
        "\n",
        "\n",
        "---\n",
        "\n",
        "\n"
      ],
      "id": "tjzHA2aVtml5"
    },
    {
      "cell_type": "code",
      "execution_count": 15,
      "metadata": {
        "colab": {
          "base_uri": "https://localhost:8080/",
          "height": 300
        },
        "id": "sc8U6HlH1ppl",
        "outputId": "3a718727-d291-4da7-8d3a-ca759fe0f5f4"
      },
      "outputs": [
        {
          "output_type": "execute_result",
          "data": {
            "text/plain": [
              "            isAdult    startYear      endYear  runtimeMinutes\n",
              "count  3.799900e+06    3799900.0     163608.0       2576514.0\n",
              "mean   3.665333e-02  1999.460197  2005.903666       44.584963\n",
              "std    1.879092e-01    29.236115    16.479427       75.944967\n",
              "min    0.000000e+00       1874.0       1906.0             0.0\n",
              "25%    0.000000e+00       1997.0       1998.0            10.0\n",
              "50%    0.000000e+00       2012.0       2012.0            23.0\n",
              "75%    0.000000e+00       2017.0       2018.0            80.0\n",
              "max    1.000000e+00       2023.0       2030.0         51420.0"
            ],
            "text/html": [
              "\n",
              "  <div id=\"df-7a51aa40-76d0-411d-b590-32ec5df86f68\" class=\"colab-df-container\">\n",
              "    <div>\n",
              "<style scoped>\n",
              "    .dataframe tbody tr th:only-of-type {\n",
              "        vertical-align: middle;\n",
              "    }\n",
              "\n",
              "    .dataframe tbody tr th {\n",
              "        vertical-align: top;\n",
              "    }\n",
              "\n",
              "    .dataframe thead th {\n",
              "        text-align: right;\n",
              "    }\n",
              "</style>\n",
              "<table border=\"1\" class=\"dataframe\">\n",
              "  <thead>\n",
              "    <tr style=\"text-align: right;\">\n",
              "      <th></th>\n",
              "      <th>isAdult</th>\n",
              "      <th>startYear</th>\n",
              "      <th>endYear</th>\n",
              "      <th>runtimeMinutes</th>\n",
              "    </tr>\n",
              "  </thead>\n",
              "  <tbody>\n",
              "    <tr>\n",
              "      <th>count</th>\n",
              "      <td>3.799900e+06</td>\n",
              "      <td>3799900.0</td>\n",
              "      <td>163608.0</td>\n",
              "      <td>2576514.0</td>\n",
              "    </tr>\n",
              "    <tr>\n",
              "      <th>mean</th>\n",
              "      <td>3.665333e-02</td>\n",
              "      <td>1999.460197</td>\n",
              "      <td>2005.903666</td>\n",
              "      <td>44.584963</td>\n",
              "    </tr>\n",
              "    <tr>\n",
              "      <th>std</th>\n",
              "      <td>1.879092e-01</td>\n",
              "      <td>29.236115</td>\n",
              "      <td>16.479427</td>\n",
              "      <td>75.944967</td>\n",
              "    </tr>\n",
              "    <tr>\n",
              "      <th>min</th>\n",
              "      <td>0.000000e+00</td>\n",
              "      <td>1874.0</td>\n",
              "      <td>1906.0</td>\n",
              "      <td>0.0</td>\n",
              "    </tr>\n",
              "    <tr>\n",
              "      <th>25%</th>\n",
              "      <td>0.000000e+00</td>\n",
              "      <td>1997.0</td>\n",
              "      <td>1998.0</td>\n",
              "      <td>10.0</td>\n",
              "    </tr>\n",
              "    <tr>\n",
              "      <th>50%</th>\n",
              "      <td>0.000000e+00</td>\n",
              "      <td>2012.0</td>\n",
              "      <td>2012.0</td>\n",
              "      <td>23.0</td>\n",
              "    </tr>\n",
              "    <tr>\n",
              "      <th>75%</th>\n",
              "      <td>0.000000e+00</td>\n",
              "      <td>2017.0</td>\n",
              "      <td>2018.0</td>\n",
              "      <td>80.0</td>\n",
              "    </tr>\n",
              "    <tr>\n",
              "      <th>max</th>\n",
              "      <td>1.000000e+00</td>\n",
              "      <td>2023.0</td>\n",
              "      <td>2030.0</td>\n",
              "      <td>51420.0</td>\n",
              "    </tr>\n",
              "  </tbody>\n",
              "</table>\n",
              "</div>\n",
              "    <div class=\"colab-df-buttons\">\n",
              "\n",
              "  <div class=\"colab-df-container\">\n",
              "    <button class=\"colab-df-convert\" onclick=\"convertToInteractive('df-7a51aa40-76d0-411d-b590-32ec5df86f68')\"\n",
              "            title=\"Convert this dataframe to an interactive table.\"\n",
              "            style=\"display:none;\">\n",
              "\n",
              "  <svg xmlns=\"http://www.w3.org/2000/svg\" height=\"24px\" viewBox=\"0 -960 960 960\">\n",
              "    <path d=\"M120-120v-720h720v720H120Zm60-500h600v-160H180v160Zm220 220h160v-160H400v160Zm0 220h160v-160H400v160ZM180-400h160v-160H180v160Zm440 0h160v-160H620v160ZM180-180h160v-160H180v160Zm440 0h160v-160H620v160Z\"/>\n",
              "  </svg>\n",
              "    </button>\n",
              "\n",
              "  <style>\n",
              "    .colab-df-container {\n",
              "      display:flex;\n",
              "      gap: 12px;\n",
              "    }\n",
              "\n",
              "    .colab-df-convert {\n",
              "      background-color: #E8F0FE;\n",
              "      border: none;\n",
              "      border-radius: 50%;\n",
              "      cursor: pointer;\n",
              "      display: none;\n",
              "      fill: #1967D2;\n",
              "      height: 32px;\n",
              "      padding: 0 0 0 0;\n",
              "      width: 32px;\n",
              "    }\n",
              "\n",
              "    .colab-df-convert:hover {\n",
              "      background-color: #E2EBFA;\n",
              "      box-shadow: 0px 1px 2px rgba(60, 64, 67, 0.3), 0px 1px 3px 1px rgba(60, 64, 67, 0.15);\n",
              "      fill: #174EA6;\n",
              "    }\n",
              "\n",
              "    .colab-df-buttons div {\n",
              "      margin-bottom: 4px;\n",
              "    }\n",
              "\n",
              "    [theme=dark] .colab-df-convert {\n",
              "      background-color: #3B4455;\n",
              "      fill: #D2E3FC;\n",
              "    }\n",
              "\n",
              "    [theme=dark] .colab-df-convert:hover {\n",
              "      background-color: #434B5C;\n",
              "      box-shadow: 0px 1px 3px 1px rgba(0, 0, 0, 0.15);\n",
              "      filter: drop-shadow(0px 1px 2px rgba(0, 0, 0, 0.3));\n",
              "      fill: #FFFFFF;\n",
              "    }\n",
              "  </style>\n",
              "\n",
              "    <script>\n",
              "      const buttonEl =\n",
              "        document.querySelector('#df-7a51aa40-76d0-411d-b590-32ec5df86f68 button.colab-df-convert');\n",
              "      buttonEl.style.display =\n",
              "        google.colab.kernel.accessAllowed ? 'block' : 'none';\n",
              "\n",
              "      async function convertToInteractive(key) {\n",
              "        const element = document.querySelector('#df-7a51aa40-76d0-411d-b590-32ec5df86f68');\n",
              "        const dataTable =\n",
              "          await google.colab.kernel.invokeFunction('convertToInteractive',\n",
              "                                                    [key], {});\n",
              "        if (!dataTable) return;\n",
              "\n",
              "        const docLinkHtml = 'Like what you see? Visit the ' +\n",
              "          '<a target=\"_blank\" href=https://colab.research.google.com/notebooks/data_table.ipynb>data table notebook</a>'\n",
              "          + ' to learn more about interactive tables.';\n",
              "        element.innerHTML = '';\n",
              "        dataTable['output_type'] = 'display_data';\n",
              "        await google.colab.output.renderOutput(dataTable, element);\n",
              "        const docLink = document.createElement('div');\n",
              "        docLink.innerHTML = docLinkHtml;\n",
              "        element.appendChild(docLink);\n",
              "      }\n",
              "    </script>\n",
              "  </div>\n",
              "\n",
              "\n",
              "<div id=\"df-5f843589-f718-4e87-9f82-7bea52951d63\">\n",
              "  <button class=\"colab-df-quickchart\" onclick=\"quickchart('df-5f843589-f718-4e87-9f82-7bea52951d63')\"\n",
              "            title=\"Suggest charts.\"\n",
              "            style=\"display:none;\">\n",
              "\n",
              "<svg xmlns=\"http://www.w3.org/2000/svg\" height=\"24px\"viewBox=\"0 0 24 24\"\n",
              "     width=\"24px\">\n",
              "    <g>\n",
              "        <path d=\"M19 3H5c-1.1 0-2 .9-2 2v14c0 1.1.9 2 2 2h14c1.1 0 2-.9 2-2V5c0-1.1-.9-2-2-2zM9 17H7v-7h2v7zm4 0h-2V7h2v10zm4 0h-2v-4h2v4z\"/>\n",
              "    </g>\n",
              "</svg>\n",
              "  </button>\n",
              "\n",
              "<style>\n",
              "  .colab-df-quickchart {\n",
              "      --bg-color: #E8F0FE;\n",
              "      --fill-color: #1967D2;\n",
              "      --hover-bg-color: #E2EBFA;\n",
              "      --hover-fill-color: #174EA6;\n",
              "      --disabled-fill-color: #AAA;\n",
              "      --disabled-bg-color: #DDD;\n",
              "  }\n",
              "\n",
              "  [theme=dark] .colab-df-quickchart {\n",
              "      --bg-color: #3B4455;\n",
              "      --fill-color: #D2E3FC;\n",
              "      --hover-bg-color: #434B5C;\n",
              "      --hover-fill-color: #FFFFFF;\n",
              "      --disabled-bg-color: #3B4455;\n",
              "      --disabled-fill-color: #666;\n",
              "  }\n",
              "\n",
              "  .colab-df-quickchart {\n",
              "    background-color: var(--bg-color);\n",
              "    border: none;\n",
              "    border-radius: 50%;\n",
              "    cursor: pointer;\n",
              "    display: none;\n",
              "    fill: var(--fill-color);\n",
              "    height: 32px;\n",
              "    padding: 0;\n",
              "    width: 32px;\n",
              "  }\n",
              "\n",
              "  .colab-df-quickchart:hover {\n",
              "    background-color: var(--hover-bg-color);\n",
              "    box-shadow: 0 1px 2px rgba(60, 64, 67, 0.3), 0 1px 3px 1px rgba(60, 64, 67, 0.15);\n",
              "    fill: var(--button-hover-fill-color);\n",
              "  }\n",
              "\n",
              "  .colab-df-quickchart-complete:disabled,\n",
              "  .colab-df-quickchart-complete:disabled:hover {\n",
              "    background-color: var(--disabled-bg-color);\n",
              "    fill: var(--disabled-fill-color);\n",
              "    box-shadow: none;\n",
              "  }\n",
              "\n",
              "  .colab-df-spinner {\n",
              "    border: 2px solid var(--fill-color);\n",
              "    border-color: transparent;\n",
              "    border-bottom-color: var(--fill-color);\n",
              "    animation:\n",
              "      spin 1s steps(1) infinite;\n",
              "  }\n",
              "\n",
              "  @keyframes spin {\n",
              "    0% {\n",
              "      border-color: transparent;\n",
              "      border-bottom-color: var(--fill-color);\n",
              "      border-left-color: var(--fill-color);\n",
              "    }\n",
              "    20% {\n",
              "      border-color: transparent;\n",
              "      border-left-color: var(--fill-color);\n",
              "      border-top-color: var(--fill-color);\n",
              "    }\n",
              "    30% {\n",
              "      border-color: transparent;\n",
              "      border-left-color: var(--fill-color);\n",
              "      border-top-color: var(--fill-color);\n",
              "      border-right-color: var(--fill-color);\n",
              "    }\n",
              "    40% {\n",
              "      border-color: transparent;\n",
              "      border-right-color: var(--fill-color);\n",
              "      border-top-color: var(--fill-color);\n",
              "    }\n",
              "    60% {\n",
              "      border-color: transparent;\n",
              "      border-right-color: var(--fill-color);\n",
              "    }\n",
              "    80% {\n",
              "      border-color: transparent;\n",
              "      border-right-color: var(--fill-color);\n",
              "      border-bottom-color: var(--fill-color);\n",
              "    }\n",
              "    90% {\n",
              "      border-color: transparent;\n",
              "      border-bottom-color: var(--fill-color);\n",
              "    }\n",
              "  }\n",
              "</style>\n",
              "\n",
              "  <script>\n",
              "    async function quickchart(key) {\n",
              "      const quickchartButtonEl =\n",
              "        document.querySelector('#' + key + ' button');\n",
              "      quickchartButtonEl.disabled = true;  // To prevent multiple clicks.\n",
              "      quickchartButtonEl.classList.add('colab-df-spinner');\n",
              "      try {\n",
              "        const charts = await google.colab.kernel.invokeFunction(\n",
              "            'suggestCharts', [key], {});\n",
              "      } catch (error) {\n",
              "        console.error('Error during call to suggestCharts:', error);\n",
              "      }\n",
              "      quickchartButtonEl.classList.remove('colab-df-spinner');\n",
              "      quickchartButtonEl.classList.add('colab-df-quickchart-complete');\n",
              "    }\n",
              "    (() => {\n",
              "      let quickchartButtonEl =\n",
              "        document.querySelector('#df-5f843589-f718-4e87-9f82-7bea52951d63 button');\n",
              "      quickchartButtonEl.style.display =\n",
              "        google.colab.kernel.accessAllowed ? 'block' : 'none';\n",
              "    })();\n",
              "  </script>\n",
              "</div>\n",
              "    </div>\n",
              "  </div>\n"
            ]
          },
          "metadata": {},
          "execution_count": 15
        }
      ],
      "source": [
        "df_title_basics.describe()"
      ],
      "id": "sc8U6HlH1ppl"
    },
    {
      "cell_type": "code",
      "execution_count": 16,
      "metadata": {
        "colab": {
          "base_uri": "https://localhost:8080/",
          "height": 175
        },
        "id": "1cskiCoOk7IY",
        "outputId": "19bd95ec-894e-423d-b63e-8a33f9d8c2be"
      },
      "outputs": [
        {
          "output_type": "execute_result",
          "data": {
            "text/plain": [
              "           tconst titleType primaryTitle originalTitle   genres\n",
              "count     3799900   3799900      3799900       3799900  3679525\n",
              "unique    2249969        10      1795954       1817196       28\n",
              "top     tt1822261     short         Home          Home    Short\n",
              "freq            3   1853083          829           787   989563"
            ],
            "text/html": [
              "\n",
              "  <div id=\"df-096e6a61-18e0-46ba-b5dc-a4a24c26f128\" class=\"colab-df-container\">\n",
              "    <div>\n",
              "<style scoped>\n",
              "    .dataframe tbody tr th:only-of-type {\n",
              "        vertical-align: middle;\n",
              "    }\n",
              "\n",
              "    .dataframe tbody tr th {\n",
              "        vertical-align: top;\n",
              "    }\n",
              "\n",
              "    .dataframe thead th {\n",
              "        text-align: right;\n",
              "    }\n",
              "</style>\n",
              "<table border=\"1\" class=\"dataframe\">\n",
              "  <thead>\n",
              "    <tr style=\"text-align: right;\">\n",
              "      <th></th>\n",
              "      <th>tconst</th>\n",
              "      <th>titleType</th>\n",
              "      <th>primaryTitle</th>\n",
              "      <th>originalTitle</th>\n",
              "      <th>genres</th>\n",
              "    </tr>\n",
              "  </thead>\n",
              "  <tbody>\n",
              "    <tr>\n",
              "      <th>count</th>\n",
              "      <td>3799900</td>\n",
              "      <td>3799900</td>\n",
              "      <td>3799900</td>\n",
              "      <td>3799900</td>\n",
              "      <td>3679525</td>\n",
              "    </tr>\n",
              "    <tr>\n",
              "      <th>unique</th>\n",
              "      <td>2249969</td>\n",
              "      <td>10</td>\n",
              "      <td>1795954</td>\n",
              "      <td>1817196</td>\n",
              "      <td>28</td>\n",
              "    </tr>\n",
              "    <tr>\n",
              "      <th>top</th>\n",
              "      <td>tt1822261</td>\n",
              "      <td>short</td>\n",
              "      <td>Home</td>\n",
              "      <td>Home</td>\n",
              "      <td>Short</td>\n",
              "    </tr>\n",
              "    <tr>\n",
              "      <th>freq</th>\n",
              "      <td>3</td>\n",
              "      <td>1853083</td>\n",
              "      <td>829</td>\n",
              "      <td>787</td>\n",
              "      <td>989563</td>\n",
              "    </tr>\n",
              "  </tbody>\n",
              "</table>\n",
              "</div>\n",
              "    <div class=\"colab-df-buttons\">\n",
              "\n",
              "  <div class=\"colab-df-container\">\n",
              "    <button class=\"colab-df-convert\" onclick=\"convertToInteractive('df-096e6a61-18e0-46ba-b5dc-a4a24c26f128')\"\n",
              "            title=\"Convert this dataframe to an interactive table.\"\n",
              "            style=\"display:none;\">\n",
              "\n",
              "  <svg xmlns=\"http://www.w3.org/2000/svg\" height=\"24px\" viewBox=\"0 -960 960 960\">\n",
              "    <path d=\"M120-120v-720h720v720H120Zm60-500h600v-160H180v160Zm220 220h160v-160H400v160Zm0 220h160v-160H400v160ZM180-400h160v-160H180v160Zm440 0h160v-160H620v160ZM180-180h160v-160H180v160Zm440 0h160v-160H620v160Z\"/>\n",
              "  </svg>\n",
              "    </button>\n",
              "\n",
              "  <style>\n",
              "    .colab-df-container {\n",
              "      display:flex;\n",
              "      gap: 12px;\n",
              "    }\n",
              "\n",
              "    .colab-df-convert {\n",
              "      background-color: #E8F0FE;\n",
              "      border: none;\n",
              "      border-radius: 50%;\n",
              "      cursor: pointer;\n",
              "      display: none;\n",
              "      fill: #1967D2;\n",
              "      height: 32px;\n",
              "      padding: 0 0 0 0;\n",
              "      width: 32px;\n",
              "    }\n",
              "\n",
              "    .colab-df-convert:hover {\n",
              "      background-color: #E2EBFA;\n",
              "      box-shadow: 0px 1px 2px rgba(60, 64, 67, 0.3), 0px 1px 3px 1px rgba(60, 64, 67, 0.15);\n",
              "      fill: #174EA6;\n",
              "    }\n",
              "\n",
              "    .colab-df-buttons div {\n",
              "      margin-bottom: 4px;\n",
              "    }\n",
              "\n",
              "    [theme=dark] .colab-df-convert {\n",
              "      background-color: #3B4455;\n",
              "      fill: #D2E3FC;\n",
              "    }\n",
              "\n",
              "    [theme=dark] .colab-df-convert:hover {\n",
              "      background-color: #434B5C;\n",
              "      box-shadow: 0px 1px 3px 1px rgba(0, 0, 0, 0.15);\n",
              "      filter: drop-shadow(0px 1px 2px rgba(0, 0, 0, 0.3));\n",
              "      fill: #FFFFFF;\n",
              "    }\n",
              "  </style>\n",
              "\n",
              "    <script>\n",
              "      const buttonEl =\n",
              "        document.querySelector('#df-096e6a61-18e0-46ba-b5dc-a4a24c26f128 button.colab-df-convert');\n",
              "      buttonEl.style.display =\n",
              "        google.colab.kernel.accessAllowed ? 'block' : 'none';\n",
              "\n",
              "      async function convertToInteractive(key) {\n",
              "        const element = document.querySelector('#df-096e6a61-18e0-46ba-b5dc-a4a24c26f128');\n",
              "        const dataTable =\n",
              "          await google.colab.kernel.invokeFunction('convertToInteractive',\n",
              "                                                    [key], {});\n",
              "        if (!dataTable) return;\n",
              "\n",
              "        const docLinkHtml = 'Like what you see? Visit the ' +\n",
              "          '<a target=\"_blank\" href=https://colab.research.google.com/notebooks/data_table.ipynb>data table notebook</a>'\n",
              "          + ' to learn more about interactive tables.';\n",
              "        element.innerHTML = '';\n",
              "        dataTable['output_type'] = 'display_data';\n",
              "        await google.colab.output.renderOutput(dataTable, element);\n",
              "        const docLink = document.createElement('div');\n",
              "        docLink.innerHTML = docLinkHtml;\n",
              "        element.appendChild(docLink);\n",
              "      }\n",
              "    </script>\n",
              "  </div>\n",
              "\n",
              "\n",
              "<div id=\"df-c9750fa2-dc7d-4b39-a38c-5e84979bb3d9\">\n",
              "  <button class=\"colab-df-quickchart\" onclick=\"quickchart('df-c9750fa2-dc7d-4b39-a38c-5e84979bb3d9')\"\n",
              "            title=\"Suggest charts.\"\n",
              "            style=\"display:none;\">\n",
              "\n",
              "<svg xmlns=\"http://www.w3.org/2000/svg\" height=\"24px\"viewBox=\"0 0 24 24\"\n",
              "     width=\"24px\">\n",
              "    <g>\n",
              "        <path d=\"M19 3H5c-1.1 0-2 .9-2 2v14c0 1.1.9 2 2 2h14c1.1 0 2-.9 2-2V5c0-1.1-.9-2-2-2zM9 17H7v-7h2v7zm4 0h-2V7h2v10zm4 0h-2v-4h2v4z\"/>\n",
              "    </g>\n",
              "</svg>\n",
              "  </button>\n",
              "\n",
              "<style>\n",
              "  .colab-df-quickchart {\n",
              "      --bg-color: #E8F0FE;\n",
              "      --fill-color: #1967D2;\n",
              "      --hover-bg-color: #E2EBFA;\n",
              "      --hover-fill-color: #174EA6;\n",
              "      --disabled-fill-color: #AAA;\n",
              "      --disabled-bg-color: #DDD;\n",
              "  }\n",
              "\n",
              "  [theme=dark] .colab-df-quickchart {\n",
              "      --bg-color: #3B4455;\n",
              "      --fill-color: #D2E3FC;\n",
              "      --hover-bg-color: #434B5C;\n",
              "      --hover-fill-color: #FFFFFF;\n",
              "      --disabled-bg-color: #3B4455;\n",
              "      --disabled-fill-color: #666;\n",
              "  }\n",
              "\n",
              "  .colab-df-quickchart {\n",
              "    background-color: var(--bg-color);\n",
              "    border: none;\n",
              "    border-radius: 50%;\n",
              "    cursor: pointer;\n",
              "    display: none;\n",
              "    fill: var(--fill-color);\n",
              "    height: 32px;\n",
              "    padding: 0;\n",
              "    width: 32px;\n",
              "  }\n",
              "\n",
              "  .colab-df-quickchart:hover {\n",
              "    background-color: var(--hover-bg-color);\n",
              "    box-shadow: 0 1px 2px rgba(60, 64, 67, 0.3), 0 1px 3px 1px rgba(60, 64, 67, 0.15);\n",
              "    fill: var(--button-hover-fill-color);\n",
              "  }\n",
              "\n",
              "  .colab-df-quickchart-complete:disabled,\n",
              "  .colab-df-quickchart-complete:disabled:hover {\n",
              "    background-color: var(--disabled-bg-color);\n",
              "    fill: var(--disabled-fill-color);\n",
              "    box-shadow: none;\n",
              "  }\n",
              "\n",
              "  .colab-df-spinner {\n",
              "    border: 2px solid var(--fill-color);\n",
              "    border-color: transparent;\n",
              "    border-bottom-color: var(--fill-color);\n",
              "    animation:\n",
              "      spin 1s steps(1) infinite;\n",
              "  }\n",
              "\n",
              "  @keyframes spin {\n",
              "    0% {\n",
              "      border-color: transparent;\n",
              "      border-bottom-color: var(--fill-color);\n",
              "      border-left-color: var(--fill-color);\n",
              "    }\n",
              "    20% {\n",
              "      border-color: transparent;\n",
              "      border-left-color: var(--fill-color);\n",
              "      border-top-color: var(--fill-color);\n",
              "    }\n",
              "    30% {\n",
              "      border-color: transparent;\n",
              "      border-left-color: var(--fill-color);\n",
              "      border-top-color: var(--fill-color);\n",
              "      border-right-color: var(--fill-color);\n",
              "    }\n",
              "    40% {\n",
              "      border-color: transparent;\n",
              "      border-right-color: var(--fill-color);\n",
              "      border-top-color: var(--fill-color);\n",
              "    }\n",
              "    60% {\n",
              "      border-color: transparent;\n",
              "      border-right-color: var(--fill-color);\n",
              "    }\n",
              "    80% {\n",
              "      border-color: transparent;\n",
              "      border-right-color: var(--fill-color);\n",
              "      border-bottom-color: var(--fill-color);\n",
              "    }\n",
              "    90% {\n",
              "      border-color: transparent;\n",
              "      border-bottom-color: var(--fill-color);\n",
              "    }\n",
              "  }\n",
              "</style>\n",
              "\n",
              "  <script>\n",
              "    async function quickchart(key) {\n",
              "      const quickchartButtonEl =\n",
              "        document.querySelector('#' + key + ' button');\n",
              "      quickchartButtonEl.disabled = true;  // To prevent multiple clicks.\n",
              "      quickchartButtonEl.classList.add('colab-df-spinner');\n",
              "      try {\n",
              "        const charts = await google.colab.kernel.invokeFunction(\n",
              "            'suggestCharts', [key], {});\n",
              "      } catch (error) {\n",
              "        console.error('Error during call to suggestCharts:', error);\n",
              "      }\n",
              "      quickchartButtonEl.classList.remove('colab-df-spinner');\n",
              "      quickchartButtonEl.classList.add('colab-df-quickchart-complete');\n",
              "    }\n",
              "    (() => {\n",
              "      let quickchartButtonEl =\n",
              "        document.querySelector('#df-c9750fa2-dc7d-4b39-a38c-5e84979bb3d9 button');\n",
              "      quickchartButtonEl.style.display =\n",
              "        google.colab.kernel.accessAllowed ? 'block' : 'none';\n",
              "    })();\n",
              "  </script>\n",
              "</div>\n",
              "    </div>\n",
              "  </div>\n"
            ]
          },
          "metadata": {},
          "execution_count": 16
        }
      ],
      "source": [
        "df_title_basics.drop(columns=['isAdult','startYear','endYear','runtimeMinutes']).describe()"
      ],
      "id": "1cskiCoOk7IY"
    },
    {
      "cell_type": "code",
      "execution_count": 17,
      "metadata": {
        "id": "wPfvlW4sX6yZ"
      },
      "outputs": [],
      "source": [
        "df_title_basics.to_csv('/content/gdrive/MyDrive/Colab Notebooks/IMDB_DATASETS/data_title_basics_c.tsv',sep='\\t', index=False)   # save"
      ],
      "id": "wPfvlW4sX6yZ"
    },
    {
      "cell_type": "markdown",
      "metadata": {
        "id": "PHFZ3xbsASuo"
      },
      "source": [
        "## Ratings table"
      ],
      "id": "PHFZ3xbsASuo"
    },
    {
      "cell_type": "code",
      "execution_count": 18,
      "metadata": {
        "colab": {
          "base_uri": "https://localhost:8080/"
        },
        "id": "YkAwJpnhY5Hz",
        "outputId": "a44c993b-e010-4941-e157-9133e2c6cd1c"
      },
      "outputs": [
        {
          "output_type": "stream",
          "name": "stdout",
          "text": [
            "<class 'pandas.core.frame.DataFrame'>\n",
            "RangeIndex: 1338119 entries, 0 to 1338118\n",
            "Data columns (total 3 columns):\n",
            " #   Column         Non-Null Count    Dtype  \n",
            "---  ------         --------------    -----  \n",
            " 0   tconst         1338119 non-null  object \n",
            " 1   averageRating  1338119 non-null  float64\n",
            " 2   numVotes       1338119 non-null  int64  \n",
            "dtypes: float64(1), int64(1), object(1)\n",
            "memory usage: 30.6+ MB\n"
          ]
        }
      ],
      "source": [
        "df_ratings = pd.read_csv(\"/content/gdrive/MyDrive/Colab Notebooks/IMDB_DATASETS/data_ratings.tsv\", sep='\\t')\n",
        "df_ratings.info()"
      ],
      "id": "YkAwJpnhY5Hz"
    },
    {
      "cell_type": "code",
      "execution_count": 19,
      "metadata": {
        "colab": {
          "base_uri": "https://localhost:8080/"
        },
        "id": "Vt6dv13_7ccc",
        "outputId": "66030016-3065-4d08-886e-635bc150e845"
      },
      "outputs": [
        {
          "output_type": "stream",
          "name": "stdout",
          "text": [
            "1338119\n",
            "False\n",
            "False\n"
          ]
        }
      ],
      "source": [
        "print(len(df_ratings['tconst'].unique()))\n",
        "print((df_ratings == value_to_replace_1).any().any())\n",
        "print((df_ratings == value_to_replace_2).any().any())\n",
        "df_ratings.to_csv('/content/gdrive/MyDrive/Colab Notebooks/IMDB_DATASETS/data_ratings_c.tsv',sep='\\t', index=False)  # save\n",
        "%reset -f"
      ],
      "id": "Vt6dv13_7ccc"
    },
    {
      "cell_type": "markdown",
      "metadata": {
        "id": "YwjT8qCBFe-J"
      },
      "source": [
        "## Names table"
      ],
      "id": "YwjT8qCBFe-J"
    },
    {
      "cell_type": "code",
      "execution_count": 20,
      "metadata": {
        "id": "TBpWlr7u7KoK"
      },
      "outputs": [],
      "source": [
        "import pandas as pd\n",
        "import numpy as np"
      ],
      "id": "TBpWlr7u7KoK"
    },
    {
      "cell_type": "code",
      "execution_count": 21,
      "metadata": {
        "colab": {
          "base_uri": "https://localhost:8080/"
        },
        "id": "WQPrM0P7APZ-",
        "outputId": "72590844-306e-4868-e7ed-d7b63eb79b3a"
      },
      "outputs": [
        {
          "output_type": "stream",
          "name": "stdout",
          "text": [
            "names length:  \t 12771013\n",
            "False\n",
            "True\n"
          ]
        }
      ],
      "source": [
        "df_names = pd.read_csv(\"/content/gdrive/MyDrive/Colab Notebooks/IMDB_DATASETS/data_name_basics.tsv\", sep='\\t')\n",
        "print('names length: ','\\t',len(df_names))\n",
        "print((df_names == r'\\\\N').any().any()) #False\n",
        "print((df_names == r'\\N').any().any()) #True\n",
        "df_names.replace(r'\\N', np.nan, inplace=True)"
      ],
      "id": "WQPrM0P7APZ-"
    },
    {
      "cell_type": "code",
      "execution_count": 22,
      "metadata": {
        "colab": {
          "base_uri": "https://localhost:8080/",
          "height": 394
        },
        "id": "zjnztpWE_PXn",
        "outputId": "c96b7362-64a2-4d2b-cfbb-5efe034c1870"
      },
      "outputs": [
        {
          "output_type": "execute_result",
          "data": {
            "text/plain": [
              "             nconst         primaryName  birthYear  deathYear  \\\n",
              "137410    nm0144482      Xavier Castano        1.0        NaN   \n",
              "738866    nm0784172  Lucio Anneo Seneca        4.0       65.0   \n",
              "8354667   nm4511421     Megan Liz Smith       12.0        NaN   \n",
              "5801257   nm1620433   Karen Abercrombie       13.0        NaN   \n",
              "11797510  nm8810146          Paul Walsh       21.0        NaN   \n",
              "407258    nm0430769    Flavius Josephus       37.0       95.0   \n",
              "3824086   nm1306202            Plutarch       46.0      122.0   \n",
              "486828    nm0515385        Titus Livius       59.0       17.0   \n",
              "11988576  nm9049180   Pliny the Younger       61.0      113.0   \n",
              "3828983   nm1306711           Suetonius       69.0      140.0   \n",
              "3803517   nm1304029              Appian       95.0      165.0   \n",
              "\n",
              "                             primaryProfession  \\\n",
              "137410    assistant_director,producer,director   \n",
              "738866                                  writer   \n",
              "8354667                  miscellaneous,actress   \n",
              "5801257                actress,producer,writer   \n",
              "11797510                                 actor   \n",
              "407258                    writer,miscellaneous   \n",
              "3824086                                 writer   \n",
              "486828                                  writer   \n",
              "11988576                                   NaN   \n",
              "3828983                                 writer   \n",
              "3803517                                 writer   \n",
              "\n",
              "                                     knownForTitles  \n",
              "137410      tt1701210,tt2909116,tt0338512,tt0870921  \n",
              "738866      tt0049203,tt0218822,tt0237666,tt0972562  \n",
              "8354667   tt1966378,tt3416744,tt14300912,tt10183848  \n",
              "5801257     tt7383268,tt6791350,tt8180386,tt3832914  \n",
              "11797510    tt0098878,tt0314567,tt0083839,tt0093223  \n",
              "407258      tt0049833,tt0273236,tt0237666,tt0009573  \n",
              "3824086     tt0237666,tt0056937,tt0272979,tt0472473  \n",
              "486828                                    tt0003740  \n",
              "11988576                                        NaN  \n",
              "3828983     tt0092322,tt3395994,tt0237666,tt0056937  \n",
              "3803517                                   tt0056937  "
            ],
            "text/html": [
              "\n",
              "  <div id=\"df-e6020887-dac7-473f-9b33-02cb541df99f\" class=\"colab-df-container\">\n",
              "    <div>\n",
              "<style scoped>\n",
              "    .dataframe tbody tr th:only-of-type {\n",
              "        vertical-align: middle;\n",
              "    }\n",
              "\n",
              "    .dataframe tbody tr th {\n",
              "        vertical-align: top;\n",
              "    }\n",
              "\n",
              "    .dataframe thead th {\n",
              "        text-align: right;\n",
              "    }\n",
              "</style>\n",
              "<table border=\"1\" class=\"dataframe\">\n",
              "  <thead>\n",
              "    <tr style=\"text-align: right;\">\n",
              "      <th></th>\n",
              "      <th>nconst</th>\n",
              "      <th>primaryName</th>\n",
              "      <th>birthYear</th>\n",
              "      <th>deathYear</th>\n",
              "      <th>primaryProfession</th>\n",
              "      <th>knownForTitles</th>\n",
              "    </tr>\n",
              "  </thead>\n",
              "  <tbody>\n",
              "    <tr>\n",
              "      <th>137410</th>\n",
              "      <td>nm0144482</td>\n",
              "      <td>Xavier Castano</td>\n",
              "      <td>1.0</td>\n",
              "      <td>NaN</td>\n",
              "      <td>assistant_director,producer,director</td>\n",
              "      <td>tt1701210,tt2909116,tt0338512,tt0870921</td>\n",
              "    </tr>\n",
              "    <tr>\n",
              "      <th>738866</th>\n",
              "      <td>nm0784172</td>\n",
              "      <td>Lucio Anneo Seneca</td>\n",
              "      <td>4.0</td>\n",
              "      <td>65.0</td>\n",
              "      <td>writer</td>\n",
              "      <td>tt0049203,tt0218822,tt0237666,tt0972562</td>\n",
              "    </tr>\n",
              "    <tr>\n",
              "      <th>8354667</th>\n",
              "      <td>nm4511421</td>\n",
              "      <td>Megan Liz Smith</td>\n",
              "      <td>12.0</td>\n",
              "      <td>NaN</td>\n",
              "      <td>miscellaneous,actress</td>\n",
              "      <td>tt1966378,tt3416744,tt14300912,tt10183848</td>\n",
              "    </tr>\n",
              "    <tr>\n",
              "      <th>5801257</th>\n",
              "      <td>nm1620433</td>\n",
              "      <td>Karen Abercrombie</td>\n",
              "      <td>13.0</td>\n",
              "      <td>NaN</td>\n",
              "      <td>actress,producer,writer</td>\n",
              "      <td>tt7383268,tt6791350,tt8180386,tt3832914</td>\n",
              "    </tr>\n",
              "    <tr>\n",
              "      <th>11797510</th>\n",
              "      <td>nm8810146</td>\n",
              "      <td>Paul Walsh</td>\n",
              "      <td>21.0</td>\n",
              "      <td>NaN</td>\n",
              "      <td>actor</td>\n",
              "      <td>tt0098878,tt0314567,tt0083839,tt0093223</td>\n",
              "    </tr>\n",
              "    <tr>\n",
              "      <th>407258</th>\n",
              "      <td>nm0430769</td>\n",
              "      <td>Flavius Josephus</td>\n",
              "      <td>37.0</td>\n",
              "      <td>95.0</td>\n",
              "      <td>writer,miscellaneous</td>\n",
              "      <td>tt0049833,tt0273236,tt0237666,tt0009573</td>\n",
              "    </tr>\n",
              "    <tr>\n",
              "      <th>3824086</th>\n",
              "      <td>nm1306202</td>\n",
              "      <td>Plutarch</td>\n",
              "      <td>46.0</td>\n",
              "      <td>122.0</td>\n",
              "      <td>writer</td>\n",
              "      <td>tt0237666,tt0056937,tt0272979,tt0472473</td>\n",
              "    </tr>\n",
              "    <tr>\n",
              "      <th>486828</th>\n",
              "      <td>nm0515385</td>\n",
              "      <td>Titus Livius</td>\n",
              "      <td>59.0</td>\n",
              "      <td>17.0</td>\n",
              "      <td>writer</td>\n",
              "      <td>tt0003740</td>\n",
              "    </tr>\n",
              "    <tr>\n",
              "      <th>11988576</th>\n",
              "      <td>nm9049180</td>\n",
              "      <td>Pliny the Younger</td>\n",
              "      <td>61.0</td>\n",
              "      <td>113.0</td>\n",
              "      <td>NaN</td>\n",
              "      <td>NaN</td>\n",
              "    </tr>\n",
              "    <tr>\n",
              "      <th>3828983</th>\n",
              "      <td>nm1306711</td>\n",
              "      <td>Suetonius</td>\n",
              "      <td>69.0</td>\n",
              "      <td>140.0</td>\n",
              "      <td>writer</td>\n",
              "      <td>tt0092322,tt3395994,tt0237666,tt0056937</td>\n",
              "    </tr>\n",
              "    <tr>\n",
              "      <th>3803517</th>\n",
              "      <td>nm1304029</td>\n",
              "      <td>Appian</td>\n",
              "      <td>95.0</td>\n",
              "      <td>165.0</td>\n",
              "      <td>writer</td>\n",
              "      <td>tt0056937</td>\n",
              "    </tr>\n",
              "  </tbody>\n",
              "</table>\n",
              "</div>\n",
              "    <div class=\"colab-df-buttons\">\n",
              "\n",
              "  <div class=\"colab-df-container\">\n",
              "    <button class=\"colab-df-convert\" onclick=\"convertToInteractive('df-e6020887-dac7-473f-9b33-02cb541df99f')\"\n",
              "            title=\"Convert this dataframe to an interactive table.\"\n",
              "            style=\"display:none;\">\n",
              "\n",
              "  <svg xmlns=\"http://www.w3.org/2000/svg\" height=\"24px\" viewBox=\"0 -960 960 960\">\n",
              "    <path d=\"M120-120v-720h720v720H120Zm60-500h600v-160H180v160Zm220 220h160v-160H400v160Zm0 220h160v-160H400v160ZM180-400h160v-160H180v160Zm440 0h160v-160H620v160ZM180-180h160v-160H180v160Zm440 0h160v-160H620v160Z\"/>\n",
              "  </svg>\n",
              "    </button>\n",
              "\n",
              "  <style>\n",
              "    .colab-df-container {\n",
              "      display:flex;\n",
              "      gap: 12px;\n",
              "    }\n",
              "\n",
              "    .colab-df-convert {\n",
              "      background-color: #E8F0FE;\n",
              "      border: none;\n",
              "      border-radius: 50%;\n",
              "      cursor: pointer;\n",
              "      display: none;\n",
              "      fill: #1967D2;\n",
              "      height: 32px;\n",
              "      padding: 0 0 0 0;\n",
              "      width: 32px;\n",
              "    }\n",
              "\n",
              "    .colab-df-convert:hover {\n",
              "      background-color: #E2EBFA;\n",
              "      box-shadow: 0px 1px 2px rgba(60, 64, 67, 0.3), 0px 1px 3px 1px rgba(60, 64, 67, 0.15);\n",
              "      fill: #174EA6;\n",
              "    }\n",
              "\n",
              "    .colab-df-buttons div {\n",
              "      margin-bottom: 4px;\n",
              "    }\n",
              "\n",
              "    [theme=dark] .colab-df-convert {\n",
              "      background-color: #3B4455;\n",
              "      fill: #D2E3FC;\n",
              "    }\n",
              "\n",
              "    [theme=dark] .colab-df-convert:hover {\n",
              "      background-color: #434B5C;\n",
              "      box-shadow: 0px 1px 3px 1px rgba(0, 0, 0, 0.15);\n",
              "      filter: drop-shadow(0px 1px 2px rgba(0, 0, 0, 0.3));\n",
              "      fill: #FFFFFF;\n",
              "    }\n",
              "  </style>\n",
              "\n",
              "    <script>\n",
              "      const buttonEl =\n",
              "        document.querySelector('#df-e6020887-dac7-473f-9b33-02cb541df99f button.colab-df-convert');\n",
              "      buttonEl.style.display =\n",
              "        google.colab.kernel.accessAllowed ? 'block' : 'none';\n",
              "\n",
              "      async function convertToInteractive(key) {\n",
              "        const element = document.querySelector('#df-e6020887-dac7-473f-9b33-02cb541df99f');\n",
              "        const dataTable =\n",
              "          await google.colab.kernel.invokeFunction('convertToInteractive',\n",
              "                                                    [key], {});\n",
              "        if (!dataTable) return;\n",
              "\n",
              "        const docLinkHtml = 'Like what you see? Visit the ' +\n",
              "          '<a target=\"_blank\" href=https://colab.research.google.com/notebooks/data_table.ipynb>data table notebook</a>'\n",
              "          + ' to learn more about interactive tables.';\n",
              "        element.innerHTML = '';\n",
              "        dataTable['output_type'] = 'display_data';\n",
              "        await google.colab.output.renderOutput(dataTable, element);\n",
              "        const docLink = document.createElement('div');\n",
              "        docLink.innerHTML = docLinkHtml;\n",
              "        element.appendChild(docLink);\n",
              "      }\n",
              "    </script>\n",
              "  </div>\n",
              "\n",
              "\n",
              "<div id=\"df-93786bee-734b-45d2-b01c-ce451a160c9b\">\n",
              "  <button class=\"colab-df-quickchart\" onclick=\"quickchart('df-93786bee-734b-45d2-b01c-ce451a160c9b')\"\n",
              "            title=\"Suggest charts.\"\n",
              "            style=\"display:none;\">\n",
              "\n",
              "<svg xmlns=\"http://www.w3.org/2000/svg\" height=\"24px\"viewBox=\"0 0 24 24\"\n",
              "     width=\"24px\">\n",
              "    <g>\n",
              "        <path d=\"M19 3H5c-1.1 0-2 .9-2 2v14c0 1.1.9 2 2 2h14c1.1 0 2-.9 2-2V5c0-1.1-.9-2-2-2zM9 17H7v-7h2v7zm4 0h-2V7h2v10zm4 0h-2v-4h2v4z\"/>\n",
              "    </g>\n",
              "</svg>\n",
              "  </button>\n",
              "\n",
              "<style>\n",
              "  .colab-df-quickchart {\n",
              "      --bg-color: #E8F0FE;\n",
              "      --fill-color: #1967D2;\n",
              "      --hover-bg-color: #E2EBFA;\n",
              "      --hover-fill-color: #174EA6;\n",
              "      --disabled-fill-color: #AAA;\n",
              "      --disabled-bg-color: #DDD;\n",
              "  }\n",
              "\n",
              "  [theme=dark] .colab-df-quickchart {\n",
              "      --bg-color: #3B4455;\n",
              "      --fill-color: #D2E3FC;\n",
              "      --hover-bg-color: #434B5C;\n",
              "      --hover-fill-color: #FFFFFF;\n",
              "      --disabled-bg-color: #3B4455;\n",
              "      --disabled-fill-color: #666;\n",
              "  }\n",
              "\n",
              "  .colab-df-quickchart {\n",
              "    background-color: var(--bg-color);\n",
              "    border: none;\n",
              "    border-radius: 50%;\n",
              "    cursor: pointer;\n",
              "    display: none;\n",
              "    fill: var(--fill-color);\n",
              "    height: 32px;\n",
              "    padding: 0;\n",
              "    width: 32px;\n",
              "  }\n",
              "\n",
              "  .colab-df-quickchart:hover {\n",
              "    background-color: var(--hover-bg-color);\n",
              "    box-shadow: 0 1px 2px rgba(60, 64, 67, 0.3), 0 1px 3px 1px rgba(60, 64, 67, 0.15);\n",
              "    fill: var(--button-hover-fill-color);\n",
              "  }\n",
              "\n",
              "  .colab-df-quickchart-complete:disabled,\n",
              "  .colab-df-quickchart-complete:disabled:hover {\n",
              "    background-color: var(--disabled-bg-color);\n",
              "    fill: var(--disabled-fill-color);\n",
              "    box-shadow: none;\n",
              "  }\n",
              "\n",
              "  .colab-df-spinner {\n",
              "    border: 2px solid var(--fill-color);\n",
              "    border-color: transparent;\n",
              "    border-bottom-color: var(--fill-color);\n",
              "    animation:\n",
              "      spin 1s steps(1) infinite;\n",
              "  }\n",
              "\n",
              "  @keyframes spin {\n",
              "    0% {\n",
              "      border-color: transparent;\n",
              "      border-bottom-color: var(--fill-color);\n",
              "      border-left-color: var(--fill-color);\n",
              "    }\n",
              "    20% {\n",
              "      border-color: transparent;\n",
              "      border-left-color: var(--fill-color);\n",
              "      border-top-color: var(--fill-color);\n",
              "    }\n",
              "    30% {\n",
              "      border-color: transparent;\n",
              "      border-left-color: var(--fill-color);\n",
              "      border-top-color: var(--fill-color);\n",
              "      border-right-color: var(--fill-color);\n",
              "    }\n",
              "    40% {\n",
              "      border-color: transparent;\n",
              "      border-right-color: var(--fill-color);\n",
              "      border-top-color: var(--fill-color);\n",
              "    }\n",
              "    60% {\n",
              "      border-color: transparent;\n",
              "      border-right-color: var(--fill-color);\n",
              "    }\n",
              "    80% {\n",
              "      border-color: transparent;\n",
              "      border-right-color: var(--fill-color);\n",
              "      border-bottom-color: var(--fill-color);\n",
              "    }\n",
              "    90% {\n",
              "      border-color: transparent;\n",
              "      border-bottom-color: var(--fill-color);\n",
              "    }\n",
              "  }\n",
              "</style>\n",
              "\n",
              "  <script>\n",
              "    async function quickchart(key) {\n",
              "      const quickchartButtonEl =\n",
              "        document.querySelector('#' + key + ' button');\n",
              "      quickchartButtonEl.disabled = true;  // To prevent multiple clicks.\n",
              "      quickchartButtonEl.classList.add('colab-df-spinner');\n",
              "      try {\n",
              "        const charts = await google.colab.kernel.invokeFunction(\n",
              "            'suggestCharts', [key], {});\n",
              "      } catch (error) {\n",
              "        console.error('Error during call to suggestCharts:', error);\n",
              "      }\n",
              "      quickchartButtonEl.classList.remove('colab-df-spinner');\n",
              "      quickchartButtonEl.classList.add('colab-df-quickchart-complete');\n",
              "    }\n",
              "    (() => {\n",
              "      let quickchartButtonEl =\n",
              "        document.querySelector('#df-93786bee-734b-45d2-b01c-ce451a160c9b button');\n",
              "      quickchartButtonEl.style.display =\n",
              "        google.colab.kernel.accessAllowed ? 'block' : 'none';\n",
              "    })();\n",
              "  </script>\n",
              "</div>\n",
              "    </div>\n",
              "  </div>\n"
            ]
          },
          "metadata": {},
          "execution_count": 22
        }
      ],
      "source": [
        "df_names['birthYear'] = df_names['birthYear'].astype('float64')\n",
        "df_names['deathYear'] = df_names['deathYear'].astype('float64')\n",
        "df_names[df_names['birthYear']<100].sort_values(by='birthYear')"
      ],
      "id": "zjnztpWE_PXn"
    },
    {
      "cell_type": "markdown",
      "metadata": {
        "id": "JMFXhPMHjgv-"
      },
      "source": [
        "### keeping only actors, actresses and directors"
      ],
      "id": "JMFXhPMHjgv-"
    },
    {
      "cell_type": "code",
      "execution_count": 23,
      "metadata": {
        "colab": {
          "base_uri": "https://localhost:8080/"
        },
        "id": "EAIF9uIs-2tL",
        "outputId": "6e68a1fe-3533-413b-82f3-78b0c5507037"
      },
      "outputs": [
        {
          "output_type": "stream",
          "name": "stdout",
          "text": [
            "dataframe length:  11237591\n",
            "dataframe length:  5368886\n",
            "unique professions:  ['actor' 'actress' 'director']\n"
          ]
        }
      ],
      "source": [
        "df_names = df_names[(df_names['primaryProfession']!='writer')|(df_names['birthYear']>1900)]\n",
        "df_names.dropna(subset='knownForTitles',inplace=True)\n",
        "print('dataframe length: ',len(df_names))\n",
        "df_names['knownForTitles'] = df_names['knownForTitles'].str.split(',')\n",
        "df_names['primaryProfession'] = df_names['primaryProfession'].str.split(',')\n",
        "df_names=df_names.explode('primaryProfession')\n",
        "#print(df_names['primaryProfession'].unique())\n",
        "\n",
        "primary_prof = ['actor','actress','director']\n",
        "df_names = df_names[df_names['primaryProfession'].apply(lambda x: any(str(val) in str(x) for val in primary_prof))]\n",
        "\n",
        "not_primary_prof = ['assistant_director','casting_director','art_director']\n",
        "df_names = df_names[~df_names['primaryProfession'].apply(lambda x: any(str(val) in str(x) for val in not_primary_prof))]\n",
        "\n",
        "print('dataframe length: ',len(df_names))\n",
        "print('unique professions: ',df_names['primaryProfession'].unique())\n",
        "\n"
      ],
      "id": "EAIF9uIs-2tL"
    },
    {
      "cell_type": "code",
      "execution_count": 24,
      "metadata": {
        "id": "GGv7O5fmkjOO"
      },
      "outputs": [],
      "source": [
        "df_names_titles = df_names[['nconst','knownForTitles']].copy()\n",
        "df_names.drop(columns='knownForTitles',inplace=True)\n",
        "df_names_titles.drop_duplicates(subset='nconst',inplace=True)\n",
        "df_names_professions = df_names[['nconst','primaryProfession']].copy()\n",
        "df_names.drop(columns='primaryProfession',inplace=True)\n",
        "df_names.drop_duplicates(subset='nconst',inplace=True)"
      ],
      "id": "GGv7O5fmkjOO"
    },
    {
      "cell_type": "code",
      "execution_count": 25,
      "metadata": {
        "colab": {
          "base_uri": "https://localhost:8080/"
        },
        "id": "6BuffSSZCQ_6",
        "outputId": "efa241e0-ae10-4d0f-80c3-24e2f41d2e39"
      },
      "outputs": [
        {
          "output_type": "stream",
          "name": "stdout",
          "text": [
            "<class 'pandas.core.frame.DataFrame'>\n",
            "Int64Index: 5221517 entries, 0 to 12771003\n",
            "Data columns (total 4 columns):\n",
            " #   Column       Dtype  \n",
            "---  ------       -----  \n",
            " 0   nconst       object \n",
            " 1   primaryName  object \n",
            " 2   birthYear    float64\n",
            " 3   deathYear    float64\n",
            "dtypes: float64(2), object(2)\n",
            "memory usage: 199.2+ MB\n"
          ]
        }
      ],
      "source": [
        "df_names.to_csv('/content/gdrive/MyDrive/Colab Notebooks/IMDB_DATASETS/data_name_basics_c.tsv',sep='\\t', index=False)\n",
        "df_names.info()"
      ],
      "id": "6BuffSSZCQ_6"
    },
    {
      "cell_type": "code",
      "execution_count": 26,
      "metadata": {
        "colab": {
          "base_uri": "https://localhost:8080/"
        },
        "id": "DG-tVg-lCx6d",
        "outputId": "7d542a17-69e8-41c4-c7ed-718bb0392080"
      },
      "outputs": [
        {
          "output_type": "stream",
          "name": "stdout",
          "text": [
            "<class 'pandas.core.frame.DataFrame'>\n",
            "RangeIndex: 10273871 entries, 0 to 10273870\n",
            "Data columns (total 2 columns):\n",
            " #   Column          Dtype \n",
            "---  ------          ----- \n",
            " 0   nconst          object\n",
            " 1   knownForTitles  object\n",
            "dtypes: object(2)\n",
            "memory usage: 156.8+ MB\n"
          ]
        }
      ],
      "source": [
        "df_names_titles=df_names_titles.explode('knownForTitles').reset_index(drop=True)\n",
        "df_names_titles.to_csv('/content/gdrive/MyDrive/Colab Notebooks/IMDB_DATASETS/data_name_titles_c.tsv',sep='\\t', index=False)\n",
        "df_names_titles.info()"
      ],
      "id": "DG-tVg-lCx6d"
    },
    {
      "cell_type": "code",
      "execution_count": 27,
      "metadata": {
        "colab": {
          "base_uri": "https://localhost:8080/"
        },
        "id": "NVdI9z6psLRe",
        "outputId": "8f41dcc1-33a2-4805-a962-9b548b5be888"
      },
      "outputs": [
        {
          "output_type": "stream",
          "name": "stdout",
          "text": [
            "<class 'pandas.core.frame.DataFrame'>\n",
            "Int64Index: 5368886 entries, 0 to 12771003\n",
            "Data columns (total 2 columns):\n",
            " #   Column             Dtype \n",
            "---  ------             ----- \n",
            " 0   nconst             object\n",
            " 1   primaryProfession  object\n",
            "dtypes: object(2)\n",
            "memory usage: 122.9+ MB\n"
          ]
        }
      ],
      "source": [
        "df_names_professions.to_csv('/content/gdrive/MyDrive/Colab Notebooks/IMDB_DATASETS/data_name_professions_c.tsv',sep='\\t', index=False)\n",
        "df_names_professions.info()"
      ],
      "id": "NVdI9z6psLRe"
    }
  ],
  "metadata": {
    "colab": {
      "provenance": [],
      "toc_visible": true
    },
    "kernelspec": {
      "display_name": "Python 3 (ipykernel)",
      "language": "python",
      "name": "python3"
    },
    "language_info": {
      "codemirror_mode": {
        "name": "ipython",
        "version": 3
      },
      "file_extension": ".py",
      "mimetype": "text/x-python",
      "name": "python",
      "nbconvert_exporter": "python",
      "pygments_lexer": "ipython3",
      "version": "3.11.4"
    }
  },
  "nbformat": 4,
  "nbformat_minor": 5
}